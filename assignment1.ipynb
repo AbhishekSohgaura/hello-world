{
  "nbformat": 4,
  "nbformat_minor": 0,
  "metadata": {
    "kernelspec": {
      "display_name": "Python 3",
      "language": "python",
      "name": "python3"
    },
    "language_info": {
      "codemirror_mode": {
        "name": "ipython",
        "version": 3
      },
      "file_extension": ".py",
      "mimetype": "text/x-python",
      "name": "python",
      "nbconvert_exporter": "python",
      "pygments_lexer": "ipython3",
      "version": "3.7.3"
    },
    "colab": {
      "name": "assignment1.ipynb",
      "provenance": [],
      "collapsed_sections": [],
      "include_colab_link": true
    }
  },
  "cells": [
    {
      "cell_type": "markdown",
      "metadata": {
        "id": "view-in-github",
        "colab_type": "text"
      },
      "source": [
        "<a href=\"https://colab.research.google.com/github/AbhishekSohgaura/hello-world/blob/main/assignment1.ipynb\" target=\"_parent\"><img src=\"https://colab.research.google.com/assets/colab-badge.svg\" alt=\"Open In Colab\"/></a>"
      ]
    },
    {
      "cell_type": "markdown",
      "metadata": {
        "id": "G33lgp4yR6PN"
      },
      "source": [
        "## In-class assignment - Python Basics"
      ]
    },
    {
      "cell_type": "markdown",
      "metadata": {
        "id": "R7OQFmiZR6P2"
      },
      "source": [
        "### 1. Maximun and minimum of three numbers "
      ]
    },
    {
      "cell_type": "code",
      "metadata": {
        "colab": {
          "base_uri": "https://localhost:8080/"
        },
        "id": "iIbuoHP2R6P6",
        "outputId": "61cd10a3-6c28-4fdf-be09-976c1a105a8a"
      },
      "source": [
        "def find_max_min(a, b, c):\n",
        "  lst=[a,b,c]\n",
        "  max_val = max(lst)\n",
        "  min_val = min(lst)\n",
        "  return max_val, min_val\n",
        "\n",
        "max_val, min_val = find_max_min(20, 10, 30)\n",
        "print(f\"Max={max_val} and Min={min_val}\")\n"
      ],
      "execution_count": 1,
      "outputs": [
        {
          "output_type": "stream",
          "name": "stdout",
          "text": [
            "Max=30 and Min=10\n"
          ]
        }
      ]
    },
    {
      "cell_type": "markdown",
      "metadata": {
        "id": "SuxK1gFgR6QG"
      },
      "source": [
        "### 2. Check if a number in divisible by n "
      ]
    },
    {
      "cell_type": "code",
      "metadata": {
        "colab": {
          "base_uri": "https://localhost:8080/"
        },
        "id": "zkbxaidyR6QJ",
        "outputId": "289598b8-6f77-44f9-dc99-8c8b591896bb"
      },
      "source": [
        "#Check if x is divisible by n\n",
        "def isDivisible(x, n):\n",
        "    if (x%n==0):\n",
        "      print(\"Divisible\") \n",
        "    else:\n",
        "      print(\"Not divisible\")\n",
        "\n",
        "                               #Your code\n",
        "    \n",
        "\n",
        "is_divisible = isDivisible(10, 2)\n",
        "#Print \"Divisible\" if x is divisible by n otherwise \"Not divisible\"\n",
        "\n"
      ],
      "execution_count": 3,
      "outputs": [
        {
          "output_type": "stream",
          "name": "stdout",
          "text": [
            "Divisible\n"
          ]
        }
      ]
    },
    {
      "cell_type": "markdown",
      "metadata": {
        "id": "DWjGVZ9WR6QM"
      },
      "source": [
        "### 3. Print Fibonacci sequence of length n"
      ]
    },
    {
      "cell_type": "code",
      "metadata": {
        "colab": {
          "base_uri": "https://localhost:8080/"
        },
        "id": "46WC-vUPR6QP",
        "outputId": "52c0e14f-4d6d-40cd-ad4e-4d98fe963045"
      },
      "source": [
        "#A Fibonacci sequence is the integer sequence of 0, 1, 1, 2, 3, 5, 8....\n",
        "#The first two terms are 0 and 1. \n",
        "#All other terms are obtained by adding the preceding two terms. \n",
        "#This means to say the nth term is the sum of (n-1)th and (n-2)th term.\n",
        "def fib(n):\n",
        "  a=0\n",
        "  b=1\n",
        "  print(a)\n",
        "  print(b)\n",
        "  for i in range(2,n):\n",
        "    c=a+b\n",
        "    a=b\n",
        "    b=c\n",
        "    print(c)\n",
        "\n",
        "n = 10\n",
        "fib(n)\n",
        "\n"
      ],
      "execution_count": 4,
      "outputs": [
        {
          "output_type": "stream",
          "name": "stdout",
          "text": [
            "0\n",
            "1\n",
            "1\n",
            "2\n",
            "3\n",
            "5\n",
            "8\n",
            "13\n",
            "21\n",
            "34\n"
          ]
        }
      ]
    },
    {
      "cell_type": "markdown",
      "metadata": {
        "id": "l-HOPuZ_R6QS"
      },
      "source": [
        "### 4. Count number of vowels in a string using for loop"
      ]
    },
    {
      "cell_type": "code",
      "metadata": {
        "colab": {
          "base_uri": "https://localhost:8080/"
        },
        "id": "FsHRieUtR6QU",
        "outputId": "2fdcd525-b410-45c1-ca73-c17c0e8c8f50"
      },
      "source": [
        "def get_vowel_count(x):\n",
        "    vowel_count = 0\n",
        "    vowels = (\"aeiouAEIOU\")\n",
        "    for i in x:\n",
        "      for j in vowels:\n",
        "          if i==j:\n",
        "             vowel_count+=1\n",
        "    return vowel_count                        \n",
        "    \n",
        "\n",
        "x = \"QUeUEiNg\"\n",
        "print(f\"Number of vowels in {x} is {get_vowel_count(x)}\")"
      ],
      "execution_count": 38,
      "outputs": [
        {
          "output_type": "stream",
          "name": "stdout",
          "text": [
            "Number of vowels in QUeUEiNg is 5\n"
          ]
        }
      ]
    },
    {
      "cell_type": "markdown",
      "metadata": {
        "id": "CDc8w5dlR6QX"
      },
      "source": [
        "### 5. Solve Question 4 using list comprehension"
      ]
    },
    {
      "cell_type": "code",
      "metadata": {
        "colab": {
          "base_uri": "https://localhost:8080/"
        },
        "id": "wmMt4PXkR6QZ",
        "outputId": "06e40f4b-d8ca-49c0-d61d-fb41fdb66922"
      },
      "source": [
        "def get_vowel_count_list(x):\n",
        "    vowel_count = 0\n",
        "    vowels = [\"a\",\"e\",\"i\",\"o\",\"u\",\"A\",\"E\",\"I\",\"O\",\"U\"] \n",
        "    lst=list(x) \n",
        "    \n",
        "    for i in lst:\n",
        "      for j in vowels:\n",
        "        if i==j:\n",
        "             vowel_count+=1\n",
        "    return vowel_count\n",
        "\n",
        "x = \"QUeUEiNg\"\n",
        "print(f\"Number of vowels in {x} is {get_vowel_count_list(x)}\")\n",
        "    \n",
        "    \n",
        "                                                    "
      ],
      "execution_count": 16,
      "outputs": [
        {
          "output_type": "stream",
          "name": "stdout",
          "text": [
            "Number of vowels in QUeUEiNg is 5\n"
          ]
        }
      ]
    },
    {
      "cell_type": "markdown",
      "metadata": {
        "id": "o9KC9iJ4R6Qa"
      },
      "source": [
        "### 6. Create dictionary where key-value pair is roll number and marks obtained by a student. Print highest mark, lowest mark, and class average. Print the roll number of the students who scored more than 50. "
      ]
    },
    {
      "cell_type": "code",
      "metadata": {
        "colab": {
          "base_uri": "https://localhost:8080/"
        },
        "id": "zwP-EH9iR6Qb",
        "outputId": "2d3ae3a0-4962-45f7-8f64-36bfbd4a4e3e"
      },
      "source": [
        "   result={1:75,2:44,3:23,4:48} \n",
        "   key=list(result.keys())\n",
        "   lst=list(result.values())\n",
        "   print(\"highest_marks\", max(lst))\n",
        "   print(\"lowest_marks\", min(lst))\n",
        "   n=len(lst)\n",
        "   sum=0\n",
        "   for i in lst:\n",
        "     sum=sum+i\n",
        "   avg=sum/n \n",
        "   print(\"average\",avg)\n",
        "   for i in lst:\n",
        "     if i>50:\n",
        "       j=lst.index(i)\n",
        "       roll=key[j]\n",
        "       print(roll)\n"
      ],
      "execution_count": 37,
      "outputs": [
        {
          "output_type": "stream",
          "name": "stdout",
          "text": [
            "highest_marks 75\n",
            "lowest_marks 23\n",
            "average 47.5\n",
            "1\n"
          ]
        }
      ]
    },
    {
      "cell_type": "markdown",
      "metadata": {
        "id": "PeDmtENeR6Qf"
      },
      "source": [
        "### 7 Print the following structure using for loop "
      ]
    },
    {
      "cell_type": "code",
      "metadata": {
        "id": "em9AGmHPR6Qj"
      },
      "source": [
        "##########\n",
        "########\n",
        "######\n",
        "####\n",
        "##\n",
        "####\n",
        "######\n",
        "########\n",
        "##########\n",
        "\n",
        "#Your code\n"
      ],
      "execution_count": null,
      "outputs": []
    },
    {
      "cell_type": "markdown",
      "metadata": {
        "id": "0PdUawTrR6Qk"
      },
      "source": [
        "### 8. Write your own function to sort a list in ascending order"
      ]
    },
    {
      "cell_type": "code",
      "metadata": {
        "colab": {
          "base_uri": "https://localhost:8080/"
        },
        "id": "MxHAM2UCR6Qm",
        "outputId": "e64548b0-c969-4fe6-9a19-32d1614a31a6"
      },
      "source": [
        "def sort_list(lst):\n",
        "  n=len(lst)\n",
        "  for i in range (n):\n",
        "    for j in range(i + 1, n):\n",
        "        if(lst[i] > lst[j]):\n",
        "            temp = lst[i]\n",
        "            lst[i] = lst[j]\n",
        "            lst[j] = temp\n",
        "  \n",
        "  print(lst)\n",
        "\n",
        "lst = [3,5,1,9,7,8,3,9]\n",
        "print(f\"Original List : {lst}\")\n",
        "print(sort_list(lst))"
      ],
      "execution_count": 7,
      "outputs": [
        {
          "output_type": "stream",
          "name": "stdout",
          "text": [
            "Original List : [3, 5, 1, 9, 7, 8, 3, 9]\n",
            "[1, 3, 3, 5, 7, 8, 9, 9]\n",
            "None\n"
          ]
        }
      ]
    },
    {
      "cell_type": "markdown",
      "metadata": {
        "id": "RQVvsP9bR6Qq"
      },
      "source": [
        "### 9. Count number of words using string split"
      ]
    },
    {
      "cell_type": "code",
      "metadata": {
        "colab": {
          "base_uri": "https://localhost:8080/"
        },
        "id": "gOCgYeLoR6Qs",
        "outputId": "d730c22c-446a-4436-ef28-a89e6fcad776"
      },
      "source": [
        "s = \"Sky is blue.\"\n",
        "#Your code\n",
        "s_lst=s.split()\n",
        "count=0\n",
        "for i in s_lst:\n",
        "  count+=1\n",
        "print(count)"
      ],
      "execution_count": 42,
      "outputs": [
        {
          "output_type": "stream",
          "name": "stdout",
          "text": [
            "3\n"
          ]
        }
      ]
    },
    {
      "cell_type": "markdown",
      "metadata": {
        "id": "kZIHnta6R6Qt"
      },
      "source": [
        "### 10. Extract Information"
      ]
    },
    {
      "cell_type": "code",
      "metadata": {
        "colab": {
          "base_uri": "https://localhost:8080/"
        },
        "id": "CsUS7R3tR6Qu",
        "outputId": "27a9f04f-af75-4678-e2d3-2ab8718c8bb0"
      },
      "source": [
        "#A string is given using the following format {name}##{age}::{gender}::{ID}\n",
        "#Write a code to extract the name, age, gender, and id and print them\n",
        "s = \"Lisa##25::Female::123\"\n",
        "\n",
        "#Your code\n",
        "s_lst=s.split()\n",
        "print(s_lst)\n",
        "name=s_lst[0]"
      ],
      "execution_count": 43,
      "outputs": [
        {
          "output_type": "stream",
          "name": "stdout",
          "text": [
            "['Lisa##25::Female::123']\n"
          ]
        }
      ]
    },
    {
      "cell_type": "code",
      "metadata": {
        "id": "SD3XpWSAR6Qv"
      },
      "source": [
        ""
      ],
      "execution_count": null,
      "outputs": []
    }
  ]
}